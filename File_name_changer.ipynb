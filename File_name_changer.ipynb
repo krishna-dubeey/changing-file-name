{
  "nbformat": 4,
  "nbformat_minor": 0,
  "metadata": {
    "colab": {
      "provenance": []
    },
    "kernelspec": {
      "name": "python3",
      "display_name": "Python 3"
    },
    "language_info": {
      "name": "python"
    }
  },
  "cells": [
    {
      "cell_type": "markdown",
      "source": [
        "1. To change file name or add or remove characters in the name of a music file or any file using Python.\n",
        "We can utilize the **os** module for file operations and the **shutil** module for renaming files."
      ],
      "metadata": {
        "id": "S998VL72nzsW"
      }
    },
    {
      "cell_type": "markdown",
      "source": [
        "To add characters to the file name:"
      ],
      "metadata": {
        "id": "J6lpLCvJoKe4"
      }
    },
    {
      "cell_type": "code",
      "execution_count": null,
      "metadata": {
        "id": "CoDH1ZzinyTr"
      },
      "outputs": [],
      "source": [
        "import os\n",
        "\n",
        "# Specify the path to the file\n",
        "file_path = \"path_to_file/music_file.mp3\"\n",
        "\n",
        "# Extract the directory path and the file name\n",
        "directory, filename = os.path.split(file_path)\n",
        "\n",
        "# Specify the characters you want to add\n",
        "characters_to_add = \"_new\"\n",
        "\n",
        "# Construct the new file name\n",
        "new_filename = filename[:-4] + characters_to_add + filename[-4:]\n",
        "\n",
        "# Create the new file path\n",
        "new_file_path = os.path.join(directory, new_filename)\n",
        "\n",
        "# Rename the file\n",
        "os.rename(file_path, new_file_path)\n",
        "\n",
        "print(\"File name changed successfully.\")\n"
      ]
    },
    {
      "cell_type": "markdown",
      "source": [
        "Make sure to replace **\"path_to_file/music_file.mp3\"** and **\"path_to_file/music_file_new.mp3\"** with the actual paths to your files. In both cases, characters_to_add and characters_to_remove variables should contain the desired characters you want to add or remove, respectively. You can use above code for any file type"
      ],
      "metadata": {
        "id": "9oQalN3vopvo"
      }
    },
    {
      "cell_type": "markdown",
      "source": [
        "To remove characters from the file name:"
      ],
      "metadata": {
        "id": "ROEmq6kYoA7h"
      }
    },
    {
      "cell_type": "code",
      "source": [
        "import os\n",
        "\n",
        "# Specify the path to the file\n",
        "file_path = \"path_to_file/music_file_new.mp3\"\n",
        "\n",
        "# Extract the directory path and the file name\n",
        "directory, filename = os.path.split(file_path)\n",
        "\n",
        "# Specify the characters you want to remove\n",
        "characters_to_remove = \"_new\"\n",
        "\n",
        "# Construct the new file name\n",
        "new_filename = filename.replace(characters_to_remove, \"\")\n",
        "\n",
        "# Create the new file path\n",
        "new_file_path = os.path.join(directory, new_filename)\n",
        "\n",
        "# Rename the file\n",
        "os.rename(file_path, new_file_path)\n",
        "\n",
        "print(\"File name changed successfully.\")\n"
      ],
      "metadata": {
        "id": "Klx-XF8RoQOS"
      },
      "execution_count": null,
      "outputs": []
    },
    {
      "cell_type": "markdown",
      "source": [
        "2.  If you want to perform the operation on a folder containing multiple MP3 files, you can use the **os** module to iterate over the files in the directory and apply the same renaming logic to each file."
      ],
      "metadata": {
        "id": "zBPYvPJqot4s"
      }
    },
    {
      "cell_type": "markdown",
      "source": [
        "To add characters to the file names in a folder:"
      ],
      "metadata": {
        "id": "xbKe0Ky6pAbm"
      }
    },
    {
      "cell_type": "code",
      "source": [
        "import os\n",
        "\n",
        "# Specify the path to the folder\n",
        "folder_path = \"path_to_folder\"\n",
        "\n",
        "# Specify the characters you want to add\n",
        "characters_to_add = \"_new\"\n",
        "\n",
        "# Iterate over the files in the folder\n",
        "for filename in os.listdir(folder_path):\n",
        "    if filename.endswith(\".mp3\"):\n",
        "        # Create the current file's path\n",
        "        file_path = os.path.join(folder_path, filename)\n",
        "\n",
        "        # Construct the new file name\n",
        "        new_filename = filename[:-4] + characters_to_add + filename[-4:]\n",
        "\n",
        "        # Create the new file path\n",
        "        new_file_path = os.path.join(folder_path, new_filename)\n",
        "\n",
        "        # Rename the file\n",
        "        os.rename(file_path, new_file_path)\n",
        "\n",
        "print(\"File names changed successfully.\")\n"
      ],
      "metadata": {
        "id": "K0O4VlJzpBcO"
      },
      "execution_count": null,
      "outputs": []
    },
    {
      "cell_type": "markdown",
      "source": [
        "To remove characters from the file names in a folder:"
      ],
      "metadata": {
        "id": "EDSGq7cppDkK"
      }
    },
    {
      "cell_type": "code",
      "source": [
        "import os\n",
        "\n",
        "# Specify the path to the folder\n",
        "folder_path = \"path_to_folder\"\n",
        "\n",
        "# Specify the characters you want to remove\n",
        "characters_to_remove = \"_new\"\n",
        "\n",
        "# Iterate over the files in the folder\n",
        "for filename in os.listdir(folder_path):\n",
        "    if filename.endswith(\".mp3\"):\n",
        "        # Create the current file's path\n",
        "        file_path = os.path.join(folder_path, filename)\n",
        "\n",
        "        # Construct the new file name\n",
        "        new_filename = filename.replace(characters_to_remove, \"\")\n",
        "\n",
        "        # Create the new file path\n",
        "        new_file_path = os.path.join(folder_path, new_filename)\n",
        "\n",
        "        # Rename the file\n",
        "        os.rename(file_path, new_file_path)\n",
        "\n",
        "print(\"File names changed successfully.\")\n"
      ],
      "metadata": {
        "id": "gwxMoDqhpFqg"
      },
      "execution_count": null,
      "outputs": []
    },
    {
      "cell_type": "markdown",
      "source": [
        "3.  To remove characters or words from filenames in different dialects like **Hindi** or **Mandarin**, you can use Python's built-in string manipulation and regular expressions capabilities."
      ],
      "metadata": {
        "id": "KHlcMUpvpHoK"
      }
    },
    {
      "cell_type": "code",
      "source": [
        "import os\n",
        "import re\n",
        "\n",
        "# Specify the path to the folder\n",
        "folder_path = \"path_to_folder\"\n",
        "\n",
        "# Specify the characters or words you want to remove\n",
        "characters_to_remove = \"राजा\"  # Hindi example\n",
        "# characters_to_remove = \"世界\"  # Mandarin example\n",
        "\n",
        "# Compile a regular expression pattern to match the characters or words\n",
        "pattern = re.compile(characters_to_remove)\n",
        "\n",
        "# Iterate over the files in the folder\n",
        "for filename in os.listdir(folder_path):\n",
        "    if filename.endswith(\".mp3\"):\n",
        "        # Create the current file's path\n",
        "        file_path = os.path.join(folder_path, filename)\n",
        "\n",
        "        # Remove the characters or words using the regular expression pattern\n",
        "        new_filename = re.sub(pattern, \"\", filename)\n",
        "\n",
        "        # Create the new file path\n",
        "        new_file_path = os.path.join(folder_path, new_filename)\n",
        "\n",
        "        # Rename the file\n",
        "        os.rename(file_path, new_file_path)\n",
        "\n",
        "print(\"File names changed successfully.\")\n"
      ],
      "metadata": {
        "id": "YG89sZa-pSC2"
      },
      "execution_count": null,
      "outputs": []
    },
    {
      "cell_type": "markdown",
      "source": [
        "4.  To remove any text written in Hindi(an language) from the filenames of multiple files, you can utilize Python's regex module, which supports Unicode character properties.\n",
        "\n",
        "In this example, we use the regex module, which provides enhanced Unicode support. The regular expression pattern r\"\\p{Script=Devanagari}+\" matches one or more characters belonging to the Devanagari script, which is the script used to write Hindi.\n",
        "\n",
        "By compiling the pattern with the re.UNICODE flag, we ensure proper handling of Unicode characters in the filenames.\n",
        "\n",
        "Make sure to replace \"path_to_folder\" with the actual path to your folder containing the MP3 files. The code will iterate through all the files in the folder and remove any Hindi text from the filenames, while preserving other non-Hindi text."
      ],
      "metadata": {
        "id": "kimkwAEZpgnj"
      }
    },
    {
      "cell_type": "code",
      "source": [
        "import os\n",
        "import regex as re\n",
        "\n",
        "# Specify the path to the folder\n",
        "folder_path = \"path_to_folder\"\n",
        "\n",
        "# Compile a regular expression pattern to match Hindi text\n",
        "pattern = re.compile(r\"\\p{Script=Devanagari}+\", re.UNICODE)\n",
        "\n",
        "# Iterate over the files in the folder\n",
        "for filename in os.listdir(folder_path):\n",
        "    if filename.endswith(\".mp3\"):\n",
        "        # Create the current file's path\n",
        "        file_path = os.path.join(folder_path, filename)\n",
        "\n",
        "        # Remove Hindi text using the regular expression pattern\n",
        "        new_filename = re.sub(pattern, \"\", filename)\n",
        "\n",
        "        # Create the new file path\n",
        "        new_file_path = os.path.join(folder_path, new_filename)\n",
        "\n",
        "        # Rename the file\n",
        "        os.rename(file_path, new_file_path)\n",
        "\n",
        "print(\"File names changed successfully.\")\n"
      ],
      "metadata": {
        "id": "PY9jRM99pqNK"
      },
      "execution_count": null,
      "outputs": []
    },
    {
      "cell_type": "markdown",
      "source": [
        "5. To remove common words and characters from the filenames of music files within a folder, you can use Python and define a list of common words or characters that you want to remove."
      ],
      "metadata": {
        "id": "zSuRDrbHpt-E"
      }
    },
    {
      "cell_type": "code",
      "source": [
        "import os\n",
        "\n",
        "# Specify the path to the folder\n",
        "folder_path = \"path_to_folder\"\n",
        "\n",
        "# Define common words or characters to remove\n",
        "common_words = [\"the\", \"a\", \"an\", \"of\", \"and\"]\n",
        "common_characters = [\"_\", \"-\", \"(\", \")\", \"[\", \"]\"]\n",
        "\n",
        "# Iterate over the files in the folder\n",
        "for filename in os.listdir(folder_path):\n",
        "    if filename.endswith(\".mp3\"):\n",
        "        # Create the current file's path\n",
        "        file_path = os.path.join(folder_path, filename)\n",
        "\n",
        "        # Remove common words from the filename\n",
        "        for word in common_words:\n",
        "            filename = filename.replace(word, \"\")\n",
        "\n",
        "        # Remove common characters from the filename\n",
        "        for char in common_characters:\n",
        "            filename = filename.replace(char, \"\")\n",
        "\n",
        "        # Create the new file path\n",
        "        new_file_path = os.path.join(folder_path, filename)\n",
        "\n",
        "        # Rename the file\n",
        "        os.rename(file_path, new_file_path)\n",
        "\n",
        "print(\"File names changed successfully.\")"
      ],
      "metadata": {
        "id": "-sPWZuosp9Pg"
      },
      "execution_count": null,
      "outputs": []
    },
    {
      "cell_type": "markdown",
      "source": [
        "6. If you have more than 100 files in the folder you can try using the pathlib module in Python, which provides a simpler and more concise way to manipulate file and folder paths."
      ],
      "metadata": {
        "id": "JgapO9Akp_rK"
      }
    },
    {
      "cell_type": "code",
      "source": [
        "import os\n",
        "from pathlib import Path\n",
        "\n",
        "# Specify the path to the folder\n",
        "folder_path = \"path_to_folder\"\n",
        "\n",
        "# Specify the character or word you want to remove from the file names\n",
        "character_to_remove = \"_\"\n",
        "\n",
        "# Create a Path object for the folder\n",
        "folder = Path(folder_path)\n",
        "\n",
        "# Iterate over all files in the folder and its subdirectories\n",
        "for file_path in folder.glob(\"**/*.mp3\"):\n",
        "    if file_path.is_file():\n",
        "        # Get the new file name by removing the specified character or word\n",
        "        new_file_name = file_path.name.replace(character_to_remove, \"\")\n",
        "\n",
        "        # Create the new file path\n",
        "        new_file_path = file_path.with_name(new_file_name)\n",
        "\n",
        "        # Rename the file\n",
        "        file_path.rename(new_file_path)\n",
        "\n",
        "print(\"File names changed successfully.\")\n"
      ],
      "metadata": {
        "id": "7tIe5veAqR30"
      },
      "execution_count": null,
      "outputs": []
    },
    {
      "cell_type": "markdown",
      "source": [
        "If you want to revert back the changes made by the previous code examples, you can modify the code to store the original filenames and then rename the files back to their original names."
      ],
      "metadata": {
        "id": "7cRxe_F2pt3h"
      }
    },
    {
      "cell_type": "code",
      "source": [
        "import os\n",
        "\n",
        "# Specify the path to the folder\n",
        "folder_path = \"path_to_folder\"\n",
        "\n",
        "# Specify the character or word that was removed from the file names\n",
        "character_removed = \"_\"\n",
        "\n",
        "# Create a dictionary to store the original filenames\n",
        "original_names = {}\n",
        "\n",
        "# Iterate over the files in the folder\n",
        "for filename in os.listdir(folder_path):\n",
        "    if filename.endswith(\".mp3\"):\n",
        "        # Create the current file's path\n",
        "        file_path = os.path.join(folder_path, filename)\n",
        "\n",
        "        # Store the original filename before the change\n",
        "        original_names[file_path] = filename\n",
        "\n",
        "        # Rename the file back to its original name\n",
        "        os.rename(file_path, file_path.replace(character_removed, \"\"))\n",
        "\n",
        "print(\"File names reverted successfully.\")\n",
        "\n",
        "# If you want to print the original and current filenames\n",
        "for file_path, original_name in original_names.items():\n",
        "    print(\"Original name:\", original_name)\n",
        "    print(\"Current name:\", os.path.basename(file_path))"
      ],
      "metadata": {
        "id": "LLuvKyAgqWNq"
      },
      "execution_count": null,
      "outputs": []
    }
  ]
}